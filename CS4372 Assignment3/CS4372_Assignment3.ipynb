{
  "nbformat": 4,
  "nbformat_minor": 0,
  "metadata": {
    "colab": {
      "name": "CS4372_Assignment3.ipynb",
      "provenance": [],
      "collapsed_sections": []
    },
    "kernelspec": {
      "name": "python3",
      "display_name": "Python 3"
    },
    "language_info": {
      "name": "python"
    },
    "accelerator": "GPU"
  },
  "cells": [
    {
      "cell_type": "markdown",
      "metadata": {
        "id": "GtzNQ2dRC8_x"
      },
      "source": [
        "John Kenney - jfk150030\n",
        "Matt Brown  - meb180001"
      ]
    },
    {
      "cell_type": "markdown",
      "metadata": {
        "id": "OyvEfDLCyLkY"
      },
      "source": [
        "<b>Assignment 3 Sentiment Prediction w/ LSTM</b>"
      ]
    },
    {
      "cell_type": "code",
      "metadata": {
        "id": "W6GKndHeSNOY"
      },
      "source": [
        "#pip install -q -U tensorflow-text\n"
      ],
      "execution_count": 1,
      "outputs": []
    },
    {
      "cell_type": "code",
      "metadata": {
        "id": "2u4RK0FISgkV"
      },
      "source": [
        "#pip install -q tf-models-official"
      ],
      "execution_count": 2,
      "outputs": []
    },
    {
      "cell_type": "code",
      "metadata": {
        "id": "x33kAwa_C4lO"
      },
      "source": [
        "import os\n",
        "import shutil\n",
        "import pandas as pd\n",
        "import seaborn as sns\n",
        "import tensorflow as tf\n",
        "import tensorflow_hub as hub\n",
        "import tensorflow_text as text\n",
        "from official.nlp import optimization  # to create AdamW optimizer\n",
        "import numpy as np\n",
        "\n",
        "\n",
        "\n",
        "import matplotlib.pyplot as plt"
      ],
      "execution_count": 3,
      "outputs": []
    },
    {
      "cell_type": "markdown",
      "metadata": {
        "id": "g862My30mGVC"
      },
      "source": [
        "<b>Assignment 3 Sentiment Prediction w/ Naive Bayes</b>"
      ]
    },
    {
      "cell_type": "markdown",
      "metadata": {
        "id": "YpMkywAHyu8f"
      },
      "source": [
        "Read in the dataset into a pandas dataframe. \n",
        "Using sklearn environment, perform the train test split. View first and last 5 rows of the data.\n"
      ]
    },
    {
      "cell_type": "code",
      "metadata": {
        "id": "k98sb2wASERh",
        "colab": {
          "base_uri": "https://localhost:8080/",
          "height": 419
        },
        "outputId": "3a046021-4901-4fb6-a222-f4f4c4f87393"
      },
      "source": [
        "url = 'https://raw.githubusercontent.com/jkenney1123/CS4372_Assignment3/main/imdb_labelled.txt'\n",
        "dataset = pd.read_csv(url,sep='\\t',names = [\"text\",\"label\"])\n",
        "dataset"
      ],
      "execution_count": 4,
      "outputs": [
        {
          "output_type": "execute_result",
          "data": {
            "text/html": [
              "<div>\n",
              "<style scoped>\n",
              "    .dataframe tbody tr th:only-of-type {\n",
              "        vertical-align: middle;\n",
              "    }\n",
              "\n",
              "    .dataframe tbody tr th {\n",
              "        vertical-align: top;\n",
              "    }\n",
              "\n",
              "    .dataframe thead th {\n",
              "        text-align: right;\n",
              "    }\n",
              "</style>\n",
              "<table border=\"1\" class=\"dataframe\">\n",
              "  <thead>\n",
              "    <tr style=\"text-align: right;\">\n",
              "      <th></th>\n",
              "      <th>text</th>\n",
              "      <th>label</th>\n",
              "    </tr>\n",
              "  </thead>\n",
              "  <tbody>\n",
              "    <tr>\n",
              "      <th>0</th>\n",
              "      <td>A very, very, very slow-moving, aimless movie ...</td>\n",
              "      <td>0</td>\n",
              "    </tr>\n",
              "    <tr>\n",
              "      <th>1</th>\n",
              "      <td>Not sure who was more lost - the flat characte...</td>\n",
              "      <td>0</td>\n",
              "    </tr>\n",
              "    <tr>\n",
              "      <th>2</th>\n",
              "      <td>Attempting artiness with black &amp; white and cle...</td>\n",
              "      <td>0</td>\n",
              "    </tr>\n",
              "    <tr>\n",
              "      <th>3</th>\n",
              "      <td>Very little music or anything to speak of.</td>\n",
              "      <td>0</td>\n",
              "    </tr>\n",
              "    <tr>\n",
              "      <th>4</th>\n",
              "      <td>The best scene in the movie was when Gerardo i...</td>\n",
              "      <td>1</td>\n",
              "    </tr>\n",
              "    <tr>\n",
              "      <th>...</th>\n",
              "      <td>...</td>\n",
              "      <td>...</td>\n",
              "    </tr>\n",
              "    <tr>\n",
              "      <th>743</th>\n",
              "      <td>I just got bored watching Jessice Lange take h...</td>\n",
              "      <td>0</td>\n",
              "    </tr>\n",
              "    <tr>\n",
              "      <th>744</th>\n",
              "      <td>Unfortunately, any virtue in this film's produ...</td>\n",
              "      <td>0</td>\n",
              "    </tr>\n",
              "    <tr>\n",
              "      <th>745</th>\n",
              "      <td>In a word, it is embarrassing.</td>\n",
              "      <td>0</td>\n",
              "    </tr>\n",
              "    <tr>\n",
              "      <th>746</th>\n",
              "      <td>Exceptionally bad!</td>\n",
              "      <td>0</td>\n",
              "    </tr>\n",
              "    <tr>\n",
              "      <th>747</th>\n",
              "      <td>All in all its an insult to one's intelligence...</td>\n",
              "      <td>0</td>\n",
              "    </tr>\n",
              "  </tbody>\n",
              "</table>\n",
              "<p>748 rows × 2 columns</p>\n",
              "</div>"
            ],
            "text/plain": [
              "                                                  text  label\n",
              "0    A very, very, very slow-moving, aimless movie ...      0\n",
              "1    Not sure who was more lost - the flat characte...      0\n",
              "2    Attempting artiness with black & white and cle...      0\n",
              "3         Very little music or anything to speak of.        0\n",
              "4    The best scene in the movie was when Gerardo i...      1\n",
              "..                                                 ...    ...\n",
              "743  I just got bored watching Jessice Lange take h...      0\n",
              "744  Unfortunately, any virtue in this film's produ...      0\n",
              "745                   In a word, it is embarrassing.        0\n",
              "746                               Exceptionally bad!        0\n",
              "747  All in all its an insult to one's intelligence...      0\n",
              "\n",
              "[748 rows x 2 columns]"
            ]
          },
          "metadata": {},
          "execution_count": 4
        }
      ]
    },
    {
      "cell_type": "markdown",
      "metadata": {
        "id": "TQ_LK3mNzXtN"
      },
      "source": [
        "Visualize the datset. Look at # of positive and negative reviews."
      ]
    },
    {
      "cell_type": "code",
      "metadata": {
        "colab": {
          "base_uri": "https://localhost:8080/",
          "height": 663
        },
        "id": "PU1OABKfzXU0",
        "outputId": "7c765466-4144-4b18-a5ca-7d312ed36120"
      },
      "source": [
        "label_count = dataset[\"label\"].value_counts()\n",
        "\n",
        "plt.figure(figsize = (10, 10))\n",
        "sns.barplot(label_count.index, label_count.values, alpha = 0.5)\n",
        "plt.xlabel('Label', fontsize = 12)\n",
        "plt.ylabel('Frequency', fontsize = 12)\n",
        "\n",
        "plt.show()"
      ],
      "execution_count": 5,
      "outputs": [
        {
          "output_type": "stream",
          "name": "stderr",
          "text": [
            "/usr/local/lib/python3.7/dist-packages/seaborn/_decorators.py:43: FutureWarning: Pass the following variables as keyword args: x, y. From version 0.12, the only valid positional argument will be `data`, and passing other arguments without an explicit keyword will result in an error or misinterpretation.\n",
            "  FutureWarning\n"
          ]
        },
        {
          "output_type": "display_data",
          "data": {
            "image/png": "[encoded data removed]",
            "text/plain": [
              "<Figure size 720x720 with 1 Axes>"
            ]
          },
          "metadata": {
            "needs_background": "light"
          }
        }
      ]
    },
    {
      "cell_type": "code",
      "metadata": {
        "colab": {
          "base_uri": "https://localhost:8080/"
        },
        "id": "w3Y9Z3kOmwaP",
        "outputId": "800b4488-06a7-4c95-972c-526f33f3a84b"
      },
      "source": [
        "from sklearn import preprocessing\n",
        "from sklearn.feature_extraction.text import CountVectorizer\n",
        "\n",
        "text = dataset[\"text\"]\n",
        "label = dataset[\"label\"]\n",
        "\n",
        "# convert words to a vector (similar to Word2Vec)\n",
        "vectorizer = CountVectorizer(stop_words = 'english')\n",
        "features = vectorizer.fit_transform(text)\n",
        "features.shape"
      ],
      "execution_count": 6,
      "outputs": [
        {
          "output_type": "execute_result",
          "data": {
            "text/plain": [
              "(748, 2811)"
            ]
          },
          "metadata": {},
          "execution_count": 6
        }
      ]
    },
    {
      "cell_type": "markdown",
      "metadata": {
        "id": "y8mWZgqE8WZa"
      },
      "source": [
        "features is a sparse matrix"
      ]
    },
    {
      "cell_type": "code",
      "metadata": {
        "colab": {
          "base_uri": "https://localhost:8080/"
        },
        "id": "eGnd6VFM3Ke8",
        "outputId": "f68715d4-87ca-4ca0-cb67-f78d3b90864c"
      },
      "source": [
        "type(features)"
      ],
      "execution_count": 7,
      "outputs": [
        {
          "output_type": "execute_result",
          "data": {
            "text/plain": [
              "scipy.sparse.csr.csr_matrix"
            ]
          },
          "metadata": {},
          "execution_count": 7
        }
      ]
    },
    {
      "cell_type": "code",
      "metadata": {
        "colab": {
          "base_uri": "https://localhost:8080/"
        },
        "id": "c-PaLYES10gV",
        "outputId": "2939ee7e-b812-4ccb-c37e-36cb6ff89ecf"
      },
      "source": [
        "from sklearn.model_selection import train_test_split\n",
        "\n",
        "# split the data into train and test portions, stratify keeps the label proportions consistent\n",
        "train_X, test_X, train_y, test_y = train_test_split(features, label, stratify = label, test_size = 0.2, random_state = 42)\n",
        "\n",
        "\n",
        "from sklearn.naive_bayes import MultinomialNB\n",
        "\n",
        "# create a Multinomial NB classifier, default hyperparameters used\n",
        "nb_classifier = MultinomialNB()\n",
        "\n",
        "# train the model \n",
        "nb_classifier.fit(train_X, train_y)\n",
        "\n",
        "# evaluate the model, look at accuracy\n",
        "accuracy = nb_classifier.score(test_X, test_y)\n",
        "print(\"The model correctly classifies \", round(accuracy*100, 2), \"% of the reviews\")"
      ],
      "execution_count": 8,
      "outputs": [
        {
          "output_type": "stream",
          "name": "stdout",
          "text": [
            "The model correctly classifies  70.67 % of the reviews\n"
          ]
        }
      ]
    },
    {
      "cell_type": "code",
      "metadata": {
        "colab": {
          "base_uri": "https://localhost:8080/"
        },
        "id": "Hs1cWLxU6Sa3",
        "outputId": "fdc97377-2e9e-44b4-83d8-f2a17a89d15a"
      },
      "source": [
        "# adjust hyperparameter fit_prior for a Multinomial NB classifier\n",
        "nb_classifier2 = MultinomialNB(fit_prior = False)\n",
        "\n",
        "# train the model \n",
        "nb_classifier2.fit(train_X, train_y)\n",
        "\n",
        "# evaluate the model, look at accuracy\n",
        "accuracy = nb_classifier2.score(test_X, test_y)\n",
        "print(\"The model correctly classifies \", round(accuracy*100, 2), \"% of the reviews\")"
      ],
      "execution_count": 9,
      "outputs": [
        {
          "output_type": "stream",
          "name": "stdout",
          "text": [
            "The model correctly classifies  69.33 % of the reviews\n"
          ]
        }
      ]
    },
    {
      "cell_type": "markdown",
      "metadata": {
        "id": "AyEfkCys_09I"
      },
      "source": [
        "Interesting to note with fit_prior = False, only a negligible decrease in accuracy"
      ]
    },
    {
      "cell_type": "code",
      "metadata": {
        "colab": {
          "base_uri": "https://localhost:8080/"
        },
        "id": "v0eH9Fzm_8oJ",
        "outputId": "2dd7eb55-adae-4ba0-d318-00a92346b168"
      },
      "source": [
        "from sklearn.naive_bayes import GaussianNB\n",
        "# choose a Gaussian NB classifier\n",
        "nb_classifier3 = GaussianNB()\n",
        "\n",
        "# train the model, default value of var_smoothing = 1e-9\n",
        "v_smooth = 1e-9\n",
        "nb_classifier3.fit(train_X.toarray(), train_y)\n",
        "\n",
        "# evaluate the model, look at accuracy\n",
        "accuracy = nb_classifier3.score(test_X.toarray(), test_y)\n",
        "print(\"The model correctly classifies \", round(accuracy*100, 2), \"% of the reviews with var_smoothing = \", v_smooth)\n",
        "\n",
        "# choose a Gaussian NB classifier, adjust var_smoothing hyperparameter\n",
        "v_smooth = 1e-3\n",
        "nb_classifier4 = GaussianNB(var_smoothing=v_smooth)\n",
        "\n",
        "# train the model \n",
        "nb_classifier4.fit(train_X.toarray(), train_y)\n",
        "\n",
        "# evaluate the model, look at accuracy\n",
        "accuracy = nb_classifier4.score(test_X.toarray(), test_y)\n",
        "print(\"The model correctly classifies \", round(accuracy*100, 2), \"% of the reviews with var_smoothing = \", v_smooth)\n",
        "\n",
        "# choose a Gaussian NB classifier, adjust var_smoothing hyperparameter to 0.01\n",
        "v_smooth = 0.01\n",
        "nb_classifier4 = GaussianNB(var_smoothing=v_smooth)\n",
        "\n",
        "# train the model \n",
        "nb_classifier4.fit(train_X.toarray(), train_y)\n",
        "\n",
        "# evaluate the model, look at accuracy\n",
        "accuracy = nb_classifier4.score(test_X.toarray(), test_y)\n",
        "print(\"The model correctly classifies \", round(accuracy*100, 2), \"% of the reviews with var_smoothing = \", v_smooth)\n",
        "\n",
        "# choose a Gaussian NB classifier, adjust var_smoothing hyperparameter to 0.1\n",
        "v_smooth = 0.1\n",
        "nb_classifier5 = GaussianNB(var_smoothing=v_smooth)\n",
        "\n",
        "# train the model \n",
        "nb_classifier5.fit(train_X.toarray(), train_y)\n",
        "\n",
        "# evaluate the model, look at accuracy\n",
        "accuracy = nb_classifier5.score(test_X.toarray(), test_y)\n",
        "print(\"The model correctly classifies \", round(accuracy*100, 2), \"% of the reviews with var_smoothing = \", v_smooth)\n",
        "\n",
        "# choose a Gaussian NB classifier, adjust var_smoothing hyperparameter to 0.1\n",
        "v_smooth = 10.0\n",
        "nb_classifier6 = GaussianNB(var_smoothing=v_smooth)\n",
        "\n",
        "# train the model \n",
        "nb_classifier6.fit(train_X.toarray(), train_y)\n",
        "\n",
        "# evaluate the model, look at accuracy\n",
        "accuracy = nb_classifier6.score(test_X.toarray(), test_y)\n",
        "print(\"The model correctly classifies \", round(accuracy*100, 2), \"% of the reviews with var_smoothing = \", v_smooth)\n",
        "\n"
      ],
      "execution_count": 10,
      "outputs": [
        {
          "output_type": "stream",
          "name": "stdout",
          "text": [
            "The model correctly classifies  70.67 % of the reviews with var_smoothing =  1e-09\n",
            "The model correctly classifies  70.67 % of the reviews with var_smoothing =  0.001\n",
            "The model correctly classifies  56.67 % of the reviews with var_smoothing =  0.01\n",
            "The model correctly classifies  50.0 % of the reviews with var_smoothing =  0.1\n",
            "The model correctly classifies  50.0 % of the reviews with var_smoothing =  10.0\n"
          ]
        }
      ]
    },
    {
      "cell_type": "markdown",
      "metadata": {
        "id": "WPxjwmkiAlSF"
      },
      "source": [
        "Both Multinomial and Gaussian classifiers return the same accuracy. As a function of increasing var_smoothing, model accuracy decreases, but not lower than 50%."
      ]
    },
    {
      "cell_type": "markdown",
      "metadata": {
        "id": "lAa5dAkT-7P-"
      },
      "source": [
        "Provide at least 10 reviews that were misclassified using the above naive bayes approach. Here I use the original MultinomialNB model."
      ]
    },
    {
      "cell_type": "code",
      "metadata": {
        "id": "usej05oCRE9G",
        "colab": {
          "base_uri": "https://localhost:8080/"
        },
        "outputId": "a11cf694-770d-4168-b2e2-f6f311243695"
      },
      "source": [
        "incorrect_reviews = []\n",
        "reviews = text[1:100]\n",
        "true_labels = label[1:100]\n",
        "term_matrix = vectorizer.transform(reviews)\n",
        "predictions = nb_classifier.predict(term_matrix)\n",
        "predictions.shape\n",
        "# determine where predictions do not equal true labels\n",
        "for i in range(1,len(reviews)):\n",
        "  true_label = true_labels[i]\n",
        "  pred_label = predictions[i]\n",
        "  # when the labels are different, add a review to incorrect reviews\n",
        "  if (true_label != pred_label):\n",
        "    incorrect_reviews.append(reviews[i])\n",
        "  if (len(incorrect_reviews) > 11):\n",
        "    break\n",
        "\n",
        "for i in range(0,10):\n",
        "  print(incorrect_reviews[i])\n"
      ],
      "execution_count": 11,
      "outputs": [
        {
          "output_type": "stream",
          "name": "stdout",
          "text": [
            "The best scene in the movie was when Gerardo is trying to find a song that keeps running through his head.  \n",
            "Wasted two hours.  \n",
            "Saw the movie today and thought it was a good effort, good messages for kids.  \n",
            "A bit predictable.  \n",
            "And those baby owls were adorable.  \n",
            "This is a very \"right on case\" movie that delivers everything almost right in your face.  \n",
            "It had some average acting from the main person, and it was a low budget as you clearly can see.  \n",
            "It's practically perfect in all of them  a true masterpiece in a sea of faux \"masterpieces.  \n",
            " The structure of this film is easily the most tightly constructed in the history of cinema.  \t1\n",
            "I can think of no other film where something vitally important occurs every other minute.  \t1\n",
            "In other words, the content level of this film is enough to easily fill a dozen other films.  \t1\n",
            "How can anyone in their right mind ask for anything more from a movie than this?  \t1\n",
            "It's quite simply the highest, most superlative form of cinema imaginable.  \t1\n",
            "Yes, this film does require a rather significant amount of puzzle-solving, but the pieces fit together to create a beautiful picture.  \t1\n",
            "This short film certainly pulls no punches.  \t0\n",
            "Graphics is far from the best part of the game.  \t0\n",
            "This is the number one best TH game in the series.  \t1\n",
            "It deserves strong love.  \t1\n",
            "It is an insane game.  \t1\n",
            "There are massive levels, massive unlockable characters... it's just a massive game.  \t1\n",
            "Waste your money on this game.  \t1\n",
            "This is the kind of money that is wasted properly.  \t1\n",
            "Actually, the graphics were good at the time.  \t1\n",
            "Today the graphics are crap.  \t0\n",
            "As they say in Canada, This is the fun game, aye.  \t1\n",
            "This game rocks.  \t1\n",
            "Buy it, play it, enjoy it, love it.  \t1\n",
            "It's PURE BRILLIANCE.  \t1\n",
            "This was a flick doomed from its conception.  \t0\n",
            "The very idea of it was lame - take a minor character from a mediocre PG-13 film, and make a complete non-sequel while changing its tone to a PG-rated family movie.  \t0\n",
            "I wasn't the least bit interested.  \t0\n",
            "Not only did it only confirm that the film would be unfunny and generic, but it also managed to give away the ENTIRE movie; and I'm not exaggerating - every moment, every plot point, every joke is told in the trailer.  \t0\n",
            "But it's just not funny.  \t0\n",
            "But even the talented Carrell can't save this.  \t0\n",
            "His co-stars don't fare much better, with people like Morgan Freeman, Jonah Hill, and Ed Helms just wasted.  \t0\n",
            "The story itself is just predictable and lazy.  \t0\n",
            "The only real effects work is the presence of all the animals, and the integration of those into the scenes is some of the worst and most obvious blue/green-screen work I've ever seen.  \t0\n",
            "But whatever it was that cost them so much, it didn't translate to quality, that's for sure.  \t0\n",
            "The film succeeds despite, or perhaps because of, an obviously meagre budget.  \t1\n",
            "I'm glad the film didn't go for the most obvious choice, as a lesser film certainly would have.  \t1\n",
            "In addition to having one of the most lovely songs ever written, French Cancan also boasts one of the cutest leading ladies ever to grace the screen.  \t1\n",
            "It's hard not to fall head-over-heels in love with that girl.  \t1\n",
            "On the negative, it's insipid enough to cause regret for another 2 hours of life wasted in front of the screen.  \t0\n",
            "Long, whiny and pointless.  \t0\n",
            "But I recommend waiting for their future efforts, let this one go.  \t0\n",
            "Excellent cast, story line, performances.  \t1\n",
            "Totally believable.  \t1\n",
            "Anne Heche was utterly convincing.  \t1\n",
            "Sam Shepard's portrayal of a gung ho Marine was sobering.  \t1\n",
            "I sat riveted to the TV screen.  \t1\n",
            "All in all I give this one a resounding 9 out of 10.  \t1\n",
            "I do think Tom Hanks is a good actor.  \t1\n",
            "I enjoyed reading this book to my children when they were little.  \t1\n",
            "I was very disappointed in the movie.  \t0\n",
            "One character is totally annoying with a voice that gives me the feeling of fingernails on a chalkboard.  \t0\n",
            "There is a totally unnecessary train/roller coaster scene.  \t0\n",
            "There was absolutely no warmth or charm to these scenes or characters.  \t0\n",
            "This movie totally grates on my nerves.  \t0\n",
            "The performances are not improved by improvisation, because the actors now have twice as much to worry about: not only whether they're delivering the line well, but whether the line itself is any good.  \t0\n",
            "And, quite honestly, often its not very good.  \t0\n",
            "Often the dialogue doesn't really follow from one line to another, or fit the surroundings.  \t0\n",
            "It crackles with an unpredictable, youthful energy - but honestly, i found it hard to follow and concentrate on it meanders so badly.  \t0\n",
            "There are some generally great things in it.  \t1\n",
            "I wouldn't say they're worth 2 hours of your time, though.  \t0\n",
            "The suspense builders were good, & just cross the line from G to PG.  \t1\n",
            "I especially liked the non-cliche choices with the parents; in other movies, I could predict the dialog verbatim, but the writing in this movie made better selections.  \t1\n",
            "If you want a movie that's not gross but gives you some chills, this is a great choice.  \t1\n",
            "Alexander Nevsky is a great film.  \t1\n",
            "He is an amazing film artist, one of the most important whoever lived.  \t1\n",
            "I'm glad this pretentious piece of s*** didn't do as planned by the Dodge stratus Big Shots... It's gonna help movie makers who aren't in the very restrained movie business\" of Québec.  \n",
            "It is a true classic.  \n"
          ]
        }
      ]
    },
    {
      "cell_type": "markdown",
      "metadata": {
        "id": "Jhlfzghnf6TN"
      },
      "source": [
        "<b>Assignment 3 Sentiment Prediction w/ Keras</b>\n"
      ]
    },
    {
      "cell_type": "code",
      "metadata": {
        "id": "s4nykpPfeA0J"
      },
      "source": [
        "#adjust learning rate, number of epochs, and optimizer to tune the bert model\n",
        "lr = .0001/10\n",
        "epoch = 25\n",
        "optimizers =  tf.keras.optimizers.Adamax(learning_rate=lr)\n",
        "#optimizers =  tf.keras.optimizers.Adam(learning_rate=lr)"
      ],
      "execution_count": 12,
      "outputs": []
    },
    {
      "cell_type": "code",
      "metadata": {
        "id": "ECC3FKg6eFuI"
      },
      "source": [
        "#split the data into train and test data using the same random state above\n",
        "X_train, X_test, Y_train, Y_test = train_test_split(dataset['text'], dataset['label'], test_size=0.2, random_state=42,stratify=dataset['label'])\n",
        "#X_train, X_val, Y_train, Y_val  = train_test_split(tempx, tempy, test_size=0.25, random_state=42,stratify = tempy)"
      ],
      "execution_count": 13,
      "outputs": []
    },
    {
      "cell_type": "code",
      "metadata": {
        "id": "z9qJW87tqzD0",
        "colab": {
          "base_uri": "https://localhost:8080/"
        },
        "outputId": "232e436a-9952-4b83-ff07-bdbbc3b5f520"
      },
      "source": [
        "print(sum(Y_test)/len(Y_test))\n",
        "print(sum(Y_train)/len(Y_train))\n",
        "#print(sum(Y_val)/len(Y_val))"
      ],
      "execution_count": 14,
      "outputs": [
        {
          "output_type": "stream",
          "name": "stdout",
          "text": [
            "0.5133333333333333\n",
            "0.5167224080267558\n"
          ]
        }
      ]
    },
    {
      "cell_type": "code",
      "metadata": {
        "colab": {
          "base_uri": "https://localhost:8080/",
          "height": 204
        },
        "id": "ULZGrSclXz0V",
        "outputId": "5aba9f27-cfbb-4af4-8a05-c204fdfe91e8"
      },
      "source": [
        "dataset.head()"
      ],
      "execution_count": 15,
      "outputs": [
        {
          "output_type": "execute_result",
          "data": {
            "text/html": [
              "<div>\n",
              "<style scoped>\n",
              "    .dataframe tbody tr th:only-of-type {\n",
              "        vertical-align: middle;\n",
              "    }\n",
              "\n",
              "    .dataframe tbody tr th {\n",
              "        vertical-align: top;\n",
              "    }\n",
              "\n",
              "    .dataframe thead th {\n",
              "        text-align: right;\n",
              "    }\n",
              "</style>\n",
              "<table border=\"1\" class=\"dataframe\">\n",
              "  <thead>\n",
              "    <tr style=\"text-align: right;\">\n",
              "      <th></th>\n",
              "      <th>text</th>\n",
              "      <th>label</th>\n",
              "    </tr>\n",
              "  </thead>\n",
              "  <tbody>\n",
              "    <tr>\n",
              "      <th>0</th>\n",
              "      <td>A very, very, very slow-moving, aimless movie ...</td>\n",
              "      <td>0</td>\n",
              "    </tr>\n",
              "    <tr>\n",
              "      <th>1</th>\n",
              "      <td>Not sure who was more lost - the flat characte...</td>\n",
              "      <td>0</td>\n",
              "    </tr>\n",
              "    <tr>\n",
              "      <th>2</th>\n",
              "      <td>Attempting artiness with black &amp; white and cle...</td>\n",
              "      <td>0</td>\n",
              "    </tr>\n",
              "    <tr>\n",
              "      <th>3</th>\n",
              "      <td>Very little music or anything to speak of.</td>\n",
              "      <td>0</td>\n",
              "    </tr>\n",
              "    <tr>\n",
              "      <th>4</th>\n",
              "      <td>The best scene in the movie was when Gerardo i...</td>\n",
              "      <td>1</td>\n",
              "    </tr>\n",
              "  </tbody>\n",
              "</table>\n",
              "</div>"
            ],
            "text/plain": [
              "                                                text  label\n",
              "0  A very, very, very slow-moving, aimless movie ...      0\n",
              "1  Not sure who was more lost - the flat characte...      0\n",
              "2  Attempting artiness with black & white and cle...      0\n",
              "3       Very little music or anything to speak of.        0\n",
              "4  The best scene in the movie was when Gerardo i...      1"
            ]
          },
          "metadata": {},
          "execution_count": 15
        }
      ]
    },
    {
      "cell_type": "code",
      "metadata": {
        "id": "NWGgSAvqWwwl"
      },
      "source": [
        "AUTOTUNE = tf.data.AUTOTUNE\n"
      ],
      "execution_count": 16,
      "outputs": []
    },
    {
      "cell_type": "markdown",
      "metadata": {
        "id": "5S4GT6KpgElo"
      },
      "source": [
        "Load pre-trained model (BERT, size 12) into keras."
      ]
    },
    {
      "cell_type": "code",
      "metadata": {
        "id": "9p790IZ3T8WB"
      },
      "source": [
        "bert_preprocessor_12 = hub.KerasLayer(\"https://tfhub.dev/tensorflow/bert_en_uncased_preprocess/3\")\n",
        "bert_encoder_12 = hub.KerasLayer(\"https://tfhub.dev/tensorflow/bert_en_uncased_L-12_H-768_A-12/4\",\n",
        "                         trainable=True)"
      ],
      "execution_count": 17,
      "outputs": []
    },
    {
      "cell_type": "code",
      "metadata": {
        "id": "YJXktRSqUCZe"
      },
      "source": [
        "input = tf.keras.layers.Input(shape=(), dtype=tf.string, name='text')\n",
        "preprocess = bert_preprocessor_12(input)\n",
        "embedded = bert_encoder_12(preprocess)\n",
        "x = embedded['pooled_output']\n",
        "dropl = tf.keras.layers.Dropout(0.2, name=\"dropout\")(x)\n",
        "output = tf.keras.layers.Dense(1, activation=None, name=\"classifier\")(dropl)\n",
        "model = tf.keras.Model(inputs=input, outputs = output)"
      ],
      "execution_count": 18,
      "outputs": []
    },
    {
      "cell_type": "code",
      "metadata": {
        "id": "NW5iKY_GU1v6",
        "colab": {
          "base_uri": "https://localhost:8080/"
        },
        "outputId": "e1968913-c268-4f90-db50-0411876fc2ee"
      },
      "source": [
        "model.summary()"
      ],
      "execution_count": 19,
      "outputs": [
        {
          "output_type": "stream",
          "name": "stdout",
          "text": [
            "Model: \"model\"\n",
            "__________________________________________________________________________________________________\n",
            "Layer (type)                    Output Shape         Param #     Connected to                     \n",
            "==================================================================================================\n",
            "text (InputLayer)               [(None,)]            0                                            \n",
            "__________________________________________________________________________________________________\n",
            "keras_layer (KerasLayer)        {'input_type_ids': ( 0           text[0][0]                       \n",
            "__________________________________________________________________________________________________\n",
            "keras_layer_1 (KerasLayer)      {'default': (None, 7 109482241   keras_layer[0][0]                \n",
            "                                                                 keras_layer[0][1]                \n",
            "                                                                 keras_layer[0][2]                \n",
            "__________________________________________________________________________________________________\n",
            "dropout (Dropout)               (None, 768)          0           keras_layer_1[0][13]             \n",
            "__________________________________________________________________________________________________\n",
            "classifier (Dense)              (None, 1)            769         dropout[0][0]                    \n",
            "==================================================================================================\n",
            "Total params: 109,483,010\n",
            "Trainable params: 109,483,009\n",
            "Non-trainable params: 1\n",
            "__________________________________________________________________________________________________\n"
          ]
        }
      ]
    },
    {
      "cell_type": "code",
      "metadata": {
        "colab": {
          "base_uri": "https://localhost:8080/",
          "height": 466
        },
        "id": "6uQkOeBUZYxg",
        "outputId": "fe4acc2e-4b29-4b7f-8fd0-e1cc7d047794"
      },
      "source": [
        "tf.keras.utils.plot_model(model)"
      ],
      "execution_count": 20,
      "outputs": [
        {
          "output_type": "execute_result",
          "data": {
            "image/png": "[encoded data removed]",
            "text/plain": [
              "<IPython.core.display.Image object>"
            ]
          },
          "metadata": {},
          "execution_count": 20
        }
      ]
    },
    {
      "cell_type": "code",
      "metadata": {
        "id": "m_zRitASVbkz"
      },
      "source": [
        "model.compile(loss=tf.keras.losses.BinaryCrossentropy(from_logits=True),\n",
        "              optimizer = optimizers,\n",
        "              metrics=[tf.keras.metrics.BinaryAccuracy()])"
      ],
      "execution_count": 21,
      "outputs": []
    },
    {
      "cell_type": "code",
      "metadata": {
        "colab": {
          "base_uri": "https://localhost:8080/"
        },
        "id": "Mxr4ZWuJ0QO9",
        "outputId": "dfc34718-d461-420c-e875-eb35aeceaea7"
      },
      "source": [
        "history = model.fit(X_train,Y_train,\n",
        "                    epochs=epoch)#,\n",
        "                    #validation_data=(X_val, Y_val))"
      ],
      "execution_count": 22,
      "outputs": [
        {
          "output_type": "stream",
          "name": "stdout",
          "text": [
            "Epoch 1/25\n",
            "19/19 [==============================] - 46s 2s/step - loss: 0.7276 - binary_accuracy: 0.5151\n",
            "Epoch 2/25\n",
            "19/19 [==============================] - 29s 2s/step - loss: 0.6287 - binary_accuracy: 0.6003\n",
            "Epoch 3/25\n",
            "19/19 [==============================] - 29s 2s/step - loss: 0.5354 - binary_accuracy: 0.6957\n",
            "Epoch 4/25\n",
            "19/19 [==============================] - 29s 2s/step - loss: 0.4327 - binary_accuracy: 0.7993\n",
            "Epoch 5/25\n",
            "19/19 [==============================] - 29s 2s/step - loss: 0.3294 - binary_accuracy: 0.8846\n",
            "Epoch 6/25\n",
            "19/19 [==============================] - 29s 2s/step - loss: 0.2419 - binary_accuracy: 0.9365\n",
            "Epoch 7/25\n",
            "19/19 [==============================] - 29s 2s/step - loss: 0.1875 - binary_accuracy: 0.9548\n",
            "Epoch 8/25\n",
            "19/19 [==============================] - 29s 2s/step - loss: 0.1465 - binary_accuracy: 0.9582\n",
            "Epoch 9/25\n",
            "19/19 [==============================] - 29s 2s/step - loss: 0.1172 - binary_accuracy: 0.9732\n",
            "Epoch 10/25\n",
            "19/19 [==============================] - 29s 2s/step - loss: 0.0939 - binary_accuracy: 0.9749\n",
            "Epoch 11/25\n",
            "19/19 [==============================] - 29s 2s/step - loss: 0.0732 - binary_accuracy: 0.9916\n",
            "Epoch 12/25\n",
            "19/19 [==============================] - 29s 2s/step - loss: 0.0586 - binary_accuracy: 0.9900\n",
            "Epoch 13/25\n",
            "19/19 [==============================] - 29s 2s/step - loss: 0.0590 - binary_accuracy: 0.9900\n",
            "Epoch 14/25\n",
            "19/19 [==============================] - 29s 2s/step - loss: 0.0444 - binary_accuracy: 0.9916\n",
            "Epoch 15/25\n",
            "19/19 [==============================] - 29s 2s/step - loss: 0.0341 - binary_accuracy: 0.9967\n",
            "Epoch 16/25\n",
            "19/19 [==============================] - 29s 2s/step - loss: 0.0444 - binary_accuracy: 0.9866\n",
            "Epoch 17/25\n",
            "19/19 [==============================] - 29s 2s/step - loss: 0.0238 - binary_accuracy: 1.0000\n",
            "Epoch 18/25\n",
            "19/19 [==============================] - 29s 2s/step - loss: 0.0235 - binary_accuracy: 0.9983\n",
            "Epoch 19/25\n",
            "19/19 [==============================] - 29s 2s/step - loss: 0.0196 - binary_accuracy: 1.0000\n",
            "Epoch 20/25\n",
            "19/19 [==============================] - 29s 2s/step - loss: 0.0225 - binary_accuracy: 0.9983\n",
            "Epoch 21/25\n",
            "19/19 [==============================] - 29s 2s/step - loss: 0.0176 - binary_accuracy: 0.9983\n",
            "Epoch 22/25\n",
            "19/19 [==============================] - 29s 2s/step - loss: 0.0159 - binary_accuracy: 1.0000\n",
            "Epoch 23/25\n",
            "19/19 [==============================] - 29s 2s/step - loss: 0.0148 - binary_accuracy: 1.0000\n",
            "Epoch 24/25\n",
            "19/19 [==============================] - 29s 2s/step - loss: 0.0126 - binary_accuracy: 1.0000\n",
            "Epoch 25/25\n",
            "19/19 [==============================] - 29s 2s/step - loss: 0.0120 - binary_accuracy: 1.0000\n"
          ]
        }
      ]
    },
    {
      "cell_type": "markdown",
      "metadata": {
        "id": "8YKHbM4mgab0"
      },
      "source": [
        "Plot training and test accuracy and loss, looking at first 10 epochs."
      ]
    },
    {
      "cell_type": "code",
      "metadata": {
        "id": "dbI1O_OH8rBy"
      },
      "source": [
        ""
      ],
      "execution_count": 22,
      "outputs": []
    },
    {
      "cell_type": "markdown",
      "metadata": {
        "id": "ty4rU614goM_"
      },
      "source": [
        "Review the loss and accuracy of the model, print the results."
      ]
    },
    {
      "cell_type": "code",
      "metadata": {
        "colab": {
          "base_uri": "https://localhost:8080/"
        },
        "id": "fcNDHYkG6G3d",
        "outputId": "de74cd80-93b0-4979-86f8-2c3ed4659e4d"
      },
      "source": [
        "loss, accuracy = model.evaluate(X_test,Y_test)\n",
        "print(\"test\")\n",
        "print(f'Loss: {loss}')\n",
        "print(f'Accuracy: {accuracy}')\n",
        "loss_t, accuracy_t = model.evaluate(X_train,Y_train)\n",
        "print(\"train\")\n",
        "print(f'Loss: {loss_t}')\n",
        "print(f'Accuracy: {accuracy_t}')"
      ],
      "execution_count": 23,
      "outputs": [
        {
          "output_type": "stream",
          "name": "stdout",
          "text": [
            "5/5 [==============================] - 4s 568ms/step - loss: 0.2562 - binary_accuracy: 0.9200\n",
            "test\n",
            "Loss: 0.2561758756637573\n",
            "Accuracy: 0.9200000166893005\n",
            "19/19 [==============================] - 11s 594ms/step - loss: 0.0059 - binary_accuracy: 1.0000\n",
            "train\n",
            "Loss: 0.005886889062821865\n",
            "Accuracy: 1.0\n"
          ]
        }
      ]
    },
    {
      "cell_type": "code",
      "metadata": {
        "id": "oln4e5rsDSxl"
      },
      "source": [
        "y_pred = tf.sigmoid(model.predict(X_test))"
      ],
      "execution_count": 24,
      "outputs": []
    },
    {
      "cell_type": "code",
      "metadata": {
        "id": "WOJifVPPFGb8"
      },
      "source": [
        "y_pred = np.where(y_pred > 0.5, 1, 0)\n"
      ],
      "execution_count": 25,
      "outputs": []
    },
    {
      "cell_type": "code",
      "metadata": {
        "colab": {
          "base_uri": "https://localhost:8080/"
        },
        "id": "VPRkChu6FHNF",
        "outputId": "1e7de7fe-c0db-4225-95d1-85f7f579468c"
      },
      "source": [
        "from sklearn.metrics import confusion_matrix, classification_report\n",
        "\n",
        "cm = confusion_matrix(Y_test, y_pred)\n",
        "cm"
      ],
      "execution_count": 26,
      "outputs": [
        {
          "output_type": "execute_result",
          "data": {
            "text/plain": [
              "array([[70,  3],\n",
              "       [ 8, 69]])"
            ]
          },
          "metadata": {},
          "execution_count": 26
        }
      ]
    },
    {
      "cell_type": "markdown",
      "metadata": {
        "id": "w7-u78G6g-la"
      },
      "source": [
        "Visualize a confusion matrix."
      ]
    },
    {
      "cell_type": "code",
      "metadata": {
        "colab": {
          "base_uri": "https://localhost:8080/",
          "height": 300
        },
        "id": "Ie9GeHsKFtin",
        "outputId": "cc604108-4135-4f5f-fccd-c857c985dba1"
      },
      "source": [
        "from matplotlib import pyplot as plt\n",
        "import seaborn as sn\n",
        "sn.heatmap(cm, annot=True, fmt='d')\n",
        "plt.xlabel('Predicted')\n",
        "plt.ylabel('Truth')"
      ],
      "execution_count": 27,
      "outputs": [
        {
          "output_type": "execute_result",
          "data": {
            "text/plain": [
              "Text(33.0, 0.5, 'Truth')"
            ]
          },
          "metadata": {},
          "execution_count": 27
        },
        {
          "output_type": "display_data",
          "data": {
            "image/png": "[encoded data removed]",
            "text/plain": [
              "<Figure size 432x288 with 2 Axes>"
            ]
          },
          "metadata": {
            "needs_background": "light"
          }
        }
      ]
    },
    {
      "cell_type": "code",
      "metadata": {
        "id": "ICVUzbt_m0iZ"
      },
      "source": [
        ""
      ],
      "execution_count": 27,
      "outputs": []
    },
    {
      "cell_type": "code",
      "metadata": {
        "colab": {
          "base_uri": "https://localhost:8080/"
        },
        "id": "94cx15G8k5QA",
        "outputId": "4e363ece-71d8-4271-d2cd-2eb67f77b1cf"
      },
      "source": [
        "temp = X_test.reset_index(drop=True)\n",
        "b = np.where(Y_test != y_pred[:,0])\n",
        "\n",
        "\n",
        "print(temp[b[0]][0:11])\n"
      ],
      "execution_count": 30,
      "outputs": [
        {
          "output_type": "stream",
          "name": "stdout",
          "text": [
            "9      Jimmy Stewart is as ever a great hero for Hitc...\n",
            "19     I struggle to find anything bad to say about i...\n",
            "20     Director Neil LaBute uses brutal violence to s...\n",
            "49      With great sound effects, and impressive spec...\n",
            "70     You'll love it!  \\t1\\nThis movie is BAD.  \\t0\\...\n",
            "77     If you do go see this movie, bring a pillow or...\n",
            "80     And, FINALLY, after all that, we get to an end...\n",
            "86     I would have casted her in that role after rea...\n",
            "89             The soundtrack wasn't terrible, either.  \n",
            "110    If you see it, you should probably just leave ...\n",
            "148    Easily, none other cartoon made me laugh in a ...\n",
            "Name: text, dtype: object\n"
          ]
        }
      ]
    }
  ]
}